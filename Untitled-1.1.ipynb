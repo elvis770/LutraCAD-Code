{
 "cells": [
  {
   "cell_type": "code",
   "execution_count": 6,
   "metadata": {},
   "outputs": [
    {
     "data": {
      "text/html": [
       "<table border=\"1\" class=\"dataframe\">\n",
       "  <thead>\n",
       "    <tr style=\"text-align: right;\">\n",
       "      <th></th>\n",
       "    </tr>\n",
       "  </thead>\n",
       "  <tbody>\n",
       "  </tbody>\n",
       "</table>"
      ],
      "text/plain": [
       "<IPython.core.display.HTML object>"
      ]
     },
     "metadata": {},
     "output_type": "display_data"
    }
   ],
   "source": [
    "import os\n",
    "import pandas as pd\n",
    "\n",
    "def extract_markers_parameters(txt_path):\n",
    "    parameters = {}\n",
    "    try:\n",
    "        with open(txt_path, 'r') as f:\n",
    "            for line in f:\n",
    "                if ':' in line:\n",
    "                    key, value = line.split(':', 1)\n",
    "                    key = key.strip()\n",
    "                    value = value.strip()\n",
    "                    if value:\n",
    "                        parameters[key] = value  # Store as string for now\n",
    "        return parameters\n",
    "    except Exception as e:\n",
    "        print(f\"Error extracting parameters from {txt_path}: {e}\")\n",
    "        return None\n",
    "\n",
    "# Directory containing new data\n",
    "new_data_dir = '/Users/elvisechefu/Desktop/LutraCAD2/Anonymous_20240505095828/Anonymous_20240504074935'\n",
    "\n",
    "new_data = []\n",
    "\n",
    "for subfolder in os.listdir(new_data_dir):\n",
    "    subfolder_path = os.path.join(new_data_dir, subfolder)\n",
    "    if os.path.isdir(subfolder_path):\n",
    "        foot_scans = [f for f in os.listdir(subfolder_path) if f.endswith('.stl') and not f.endswith('library.stl')]\n",
    "        markers_txt_files = [f for f in os.listdir(subfolder_path) if f.endswith('markers.txt')]\n",
    "\n",
    "        for foot_scan in foot_scans:\n",
    "            features = {\n",
    "                'Foot Scan Image': foot_scan\n",
    "            }\n",
    "            corresponding_marker_file = None\n",
    "            for txt_file in markers_txt_files:\n",
    "                if foot_scan.replace('.stl', '') in txt_file:\n",
    "                    corresponding_marker_file = txt_file\n",
    "                    break\n",
    "            \n",
    "            if corresponding_marker_file:\n",
    "                txt_path = os.path.join(subfolder_path, corresponding_marker_file)\n",
    "                markers_params = extract_markers_parameters(txt_path)\n",
    "            else:\n",
    "                markers_params = {}\n",
    "\n",
    "            if markers_params is None:\n",
    "                markers_params = {}\n",
    "\n",
    "            new_data.append({\n",
    "                'Subfolder': subfolder,\n",
    "                'Foot Scan': foot_scan,\n",
    "                'MTP1': markers_params.get('MTP1', None),\n",
    "                'MTP5': markers_params.get('MTP5', None),\n",
    "                'HEEL': markers_params.get('HEEL', None),\n",
    "                'ARCH': markers_params.get('ARCH', None),\n",
    "                'LENGTH': markers_params.get('LENGTH', None),\n",
    "                'WIDTH': markers_params.get('WIDTH', None)\n",
    "            })\n",
    "\n",
    "new_df = pd.DataFrame(new_data)\n",
    "\n",
    "# Display the DataFrame with HTML formatting in Jupyter Notebook\n",
    "from IPython.display import display, HTML\n",
    "display(HTML(new_df.to_html(escape=False, formatters={\n",
    "    'Foot Scan Image': lambda x: f'<img src=\"{x}\" width=\"100\"/>',\n",
    "    'Insole Images': lambda x: '<br>'.join([f'<img src=\"{img}\" width=\"100\"/>' for img in x.split(', ')])\n",
    "})))\n"
   ]
  }
 ],
 "metadata": {
  "kernelspec": {
   "display_name": "base",
   "language": "python",
   "name": "python3"
  },
  "language_info": {
   "codemirror_mode": {
    "name": "ipython",
    "version": 3
   },
   "file_extension": ".py",
   "mimetype": "text/x-python",
   "name": "python",
   "nbconvert_exporter": "python",
   "pygments_lexer": "ipython3",
   "version": "3.11.0"
  },
  "orig_nbformat": 4
 },
 "nbformat": 4,
 "nbformat_minor": 2
}
