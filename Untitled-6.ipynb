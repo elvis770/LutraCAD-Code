{
 "cells": [
  {
   "cell_type": "code",
   "execution_count": 23,
   "metadata": {},
   "outputs": [
    {
     "name": "stdout",
     "output_type": "stream",
     "text": [
      "CSV file has been created successfully.\n"
     ]
    }
   ],
   "source": [
    "import csv\n",
    "\n",
    "data = \"\"\"\n",
    "MTP1: -25.9107018743000,-15.0129159890000,-50.320881943000\n",
    "MTP5: 24.163089381135,-12.9891923684628,-36.3129905054547\n",
    "HEEL: 2.33757409187387,-11.9430242655439,87.4816923572679\n",
    "ARCH: -25.0660559240723,-5.48939983037863,16.0564440158478\n",
    "ANKLE_MEDIAL: \n",
    "ANKLE_LATERAL: \n",
    "LENGTH: 281.701573866998\n",
    "WIDTH: 111.733826388967\n",
    "\"\"\"\n",
    "\n",
    "# Split the data into individual lines\n",
    "lines = data.strip().split(\"\\n\")\n",
    "\n",
    "# Create a list to store the parsed data\n",
    "parsed_data = []\n",
    "\n",
    "# Parse each line\n",
    "for line in lines:\n",
    "    parts = line.split(\": \")\n",
    "    label = parts[0]\n",
    "    values = parts[1].split(\",\") if len(parts) > 1 else []\n",
    "    parsed_data.append([label] + values)\n",
    "\n",
    "# Write data to a CSV file\n",
    "with open('output.csv', mode='w', newline='') as file:\n",
    "    writer = csv.writer(file)\n",
    "    writer.writerow([\"Label\", \"X\", \"Y\", \"Z\"])  # header row\n",
    "    writer.writerows(parsed_data)\n",
    "\n",
    "print(\"CSV file has been created successfully.\")"
   ]
  },
  {
   "cell_type": "code",
   "execution_count": 24,
   "metadata": {},
   "outputs": [],
   "source": [
    "import pandas as pd\n",
    "from scipy.spatial import distance\n",
    "\n",
    "# Load existing data\n",
    "existing_data = pd.read_csv('/Users/elvisechefu/Desktop/LutraCAD2/merged_data.csv')\n",
    "\n",
    "# Load new data\n",
    "new_data = pd.read_csv('/Users/elvisechefu/Desktop/LutraCAD2/output.csv')"
   ]
  },
  {
   "cell_type": "code",
   "execution_count": 28,
   "metadata": {},
   "outputs": [],
   "source": [
    "# Function to find the closest match\n",
    "def find_closest_match(new_data_row, existing_data):\n",
    "    # Ensure all relevant columns are numeric\n",
    "    features = ['MTP1', 'MTP5', 'HEEL', 'ARCH', 'ANKLE MEDIAL', 'ANKLE LATERAL', 'LENGTH', 'WIDTH']\n",
    "    existing_data[features] = existing_data[features].apply(pd.to_numeric, errors='coerce')\n",
    "    new_data_row = pd.to_numeric(new_data_row[features], errors='coerce')\n",
    "    \n",
    "    # Drop rows with NaNs in the relevant columns\n",
    "    existing_data = existing_data.dropna(subset=features)\n",
    "    \n",
    "    if existing_data.empty:\n",
    "        raise ValueError(\"No valid samples found in the dataset after processing.\")\n",
    "    \n",
    "    # Calculate Euclidean distances\n",
    "    distances = existing_data.apply(\n",
    "        lambda row: distance.euclidean(\n",
    "            row[features].values,\n",
    "            new_data_row.values),\n",
    "        axis=1\n",
    "    )\n",
    "    \n",
    "     # Find the index of the smallest distance\n",
    "    closest_index = distances.idxmin()\n",
    "    return existing_data.loc[closest_index]"
   ]
  },
  {
   "cell_type": "code",
   "execution_count": 30,
   "metadata": {},
   "outputs": [],
   "source": [
    "# Function to find the closest match\n",
    "def find_closest_match(new_data_row, existing_data):\n",
    "    # Ensure all relevant columns are numeric\n",
    "    features = ['MTP1', 'MTP5', 'HEEL', 'ARCH', 'ANKLE MEDIAL', 'ANKLE LATERAL', 'LENGTH', 'WIDTH']\n",
    "    existing_data[features] = existing_data[features].apply(pd.to_numeric, errors='coerce')\n",
    "    \n",
    "    # Drop rows with NaNs in the relevant columns\n",
    "    existing_data = existing_data.dropna(subset=features)\n",
    "    \n",
    "    if existing_data.empty:\n",
    "        raise ValueError(\"No valid samples found in the dataset after processing.\")\n",
    "    \n",
    "    # Calculate Euclidean distances\n",
    "    distances = existing_data.apply(\n",
    "        lambda row: distance.euclidean(\n",
    "            row[features].values,\n",
    "            new_data_row[features].values),  # Access columns directly without pd.to_numeric\n",
    "        axis=1\n",
    "    )\n",
    "    # Find the index of the smallest distance\n",
    "    closest_index = distances.idxmin()\n",
    "    return existing_data.loc[closest_index]"
   ]
  },
  {
   "cell_type": "code",
   "execution_count": 31,
   "metadata": {},
   "outputs": [
    {
     "ename": "ValueError",
     "evalue": "No valid samples found in the dataset after processing.",
     "output_type": "error",
     "traceback": [
      "\u001b[0;31m---------------------------------------------------------------------------\u001b[0m",
      "\u001b[0;31mValueError\u001b[0m                                Traceback (most recent call last)",
      "\u001b[1;32mUntitled-1.ipynb Cell 5\u001b[0m line \u001b[0;36m3\n\u001b[1;32m      <a href='vscode-notebook-cell:Untitled-1.ipynb?jupyter-notebook#X24sdW50aXRsZWQ%3D?line=0'>1</a>\u001b[0m \u001b[39m# Example usage\u001b[39;00m\n\u001b[1;32m      <a href='vscode-notebook-cell:Untitled-1.ipynb?jupyter-notebook#X24sdW50aXRsZWQ%3D?line=1'>2</a>\u001b[0m new_data_row \u001b[39m=\u001b[39m new_data\u001b[39m.\u001b[39miloc[\u001b[39m0\u001b[39m]  \u001b[39m# Assuming we are matching the first row of new data\u001b[39;00m\n\u001b[0;32m----> <a href='vscode-notebook-cell:Untitled-1.ipynb?jupyter-notebook#X24sdW50aXRsZWQ%3D?line=2'>3</a>\u001b[0m closest_match \u001b[39m=\u001b[39m find_closest_match(new_data_row, existing_data)\n",
      "\u001b[1;32mUntitled-1.ipynb Cell 5\u001b[0m line \u001b[0;36m1\n\u001b[1;32m      <a href='vscode-notebook-cell:Untitled-1.ipynb?jupyter-notebook#X24sdW50aXRsZWQ%3D?line=7'>8</a>\u001b[0m existing_data \u001b[39m=\u001b[39m existing_data\u001b[39m.\u001b[39mdropna(subset\u001b[39m=\u001b[39mfeatures)\n\u001b[1;32m     <a href='vscode-notebook-cell:Untitled-1.ipynb?jupyter-notebook#X24sdW50aXRsZWQ%3D?line=9'>10</a>\u001b[0m \u001b[39mif\u001b[39;00m existing_data\u001b[39m.\u001b[39mempty:\n\u001b[0;32m---> <a href='vscode-notebook-cell:Untitled-1.ipynb?jupyter-notebook#X24sdW50aXRsZWQ%3D?line=10'>11</a>\u001b[0m     \u001b[39mraise\u001b[39;00m \u001b[39mValueError\u001b[39;00m(\u001b[39m\"\u001b[39m\u001b[39mNo valid samples found in the dataset after processing.\u001b[39m\u001b[39m\"\u001b[39m)\n\u001b[1;32m     <a href='vscode-notebook-cell:Untitled-1.ipynb?jupyter-notebook#X24sdW50aXRsZWQ%3D?line=12'>13</a>\u001b[0m \u001b[39m# Calculate Euclidean distances\u001b[39;00m\n\u001b[1;32m     <a href='vscode-notebook-cell:Untitled-1.ipynb?jupyter-notebook#X24sdW50aXRsZWQ%3D?line=13'>14</a>\u001b[0m distances \u001b[39m=\u001b[39m existing_data\u001b[39m.\u001b[39mapply(\n\u001b[1;32m     <a href='vscode-notebook-cell:Untitled-1.ipynb?jupyter-notebook#X24sdW50aXRsZWQ%3D?line=14'>15</a>\u001b[0m     \u001b[39mlambda\u001b[39;00m row: distance\u001b[39m.\u001b[39meuclidean(\n\u001b[1;32m     <a href='vscode-notebook-cell:Untitled-1.ipynb?jupyter-notebook#X24sdW50aXRsZWQ%3D?line=15'>16</a>\u001b[0m         row[features]\u001b[39m.\u001b[39mvalues,\n\u001b[1;32m     <a href='vscode-notebook-cell:Untitled-1.ipynb?jupyter-notebook#X24sdW50aXRsZWQ%3D?line=16'>17</a>\u001b[0m         new_data_row[features]\u001b[39m.\u001b[39mvalues),  \u001b[39m# Access columns directly without pd.to_numeric\u001b[39;00m\n\u001b[1;32m     <a href='vscode-notebook-cell:Untitled-1.ipynb?jupyter-notebook#X24sdW50aXRsZWQ%3D?line=17'>18</a>\u001b[0m     axis\u001b[39m=\u001b[39m\u001b[39m1\u001b[39m\n\u001b[1;32m     <a href='vscode-notebook-cell:Untitled-1.ipynb?jupyter-notebook#X24sdW50aXRsZWQ%3D?line=18'>19</a>\u001b[0m )\n",
      "\u001b[0;31mValueError\u001b[0m: No valid samples found in the dataset after processing."
     ]
    }
   ],
   "source": [
    "# Example usage\n",
    "new_data_row = new_data.iloc[0]  # Assuming we are matching the first row of new data\n",
    "closest_match = find_closest_match(new_data_row, existing_data)"
   ]
  }
 ],
 "metadata": {
  "kernelspec": {
   "display_name": "base",
   "language": "python",
   "name": "python3"
  },
  "language_info": {
   "codemirror_mode": {
    "name": "ipython",
    "version": 3
   },
   "file_extension": ".py",
   "mimetype": "text/x-python",
   "name": "python",
   "nbconvert_exporter": "python",
   "pygments_lexer": "ipython3",
   "version": "3.11.0"
  },
  "orig_nbformat": 4
 },
 "nbformat": 4,
 "nbformat_minor": 2
}
